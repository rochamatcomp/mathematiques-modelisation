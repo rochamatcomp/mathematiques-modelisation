{
 "cells": [
  {
   "cell_type": "markdown",
   "metadata": {},
   "source": [
    "Remarques de analyse fonctionnelle.\n",
    "\n",
    "---\n",
    "Auteur: [André ROCHA](https://github.com/rochamatcomp)\n",
    "\n",
    "---\n",
    "\n",
    "\n",
    "# Les espaces $\\ell^{p}(n)$\n",
    "\n",
    "\n",
    "#### Définition. \n",
    "Soit $1 \\le p \\le \\infty$. L'espace $\\ell^{p}(n)$ est défini comme étant l'espace $\\mathbb{R}^{n}$ muni de la norme :\n",
    "\n",
    "\\begin{equation}\n",
    "    ||x||_{p} = \\left( \\sum\\limits_{i=1}^{n} |x_{i}|^{p} \\right)^{1/p}, \\quad si 1 \\le p < \\infty\n",
    "\\end{equation}\n",
    "\n",
    "\\begin{equation}\n",
    "    ||x||_{\\infty} = \\max\\limits_{1 \\le i \\le n} |x_{i}|. \\quad (p = \\infty).\n",
    "\\end{equation}\n",
    "\n",
    "#### Propositions à preuver.\n",
    "L'espace $\\ell^{p}(n)$ est un espace vectoriel normé complet (espace de Banach).\n",
    "\n",
    "##### Remarque.\n",
    "> Regarde que $\\ell^{p}(n)$ est l'espace $\\mathbb{R}^{n}$ muni de la norme euclidienne, la quelle est derivé de un produit intérieur.\n",
    "\n",
    "<!--\n",
    "\n",
    "F(k) = \\int_{-\\infty}^{\\infty} f(x) e^{2\\pi i k} dx\n",
    "\\end{equation}\n",
    "-->\n",
    "<!--\n",
    " !-- $\\mathscr{L}$\n",
    " !-- $\\mathscr{l}$.\n",
    "-->\n",
    "\n",
    "<!--\n",
    " !--\\begin{equation})\n",
    " !--   \\llbracket     1 \\rrbracket       \\quad\n",
    " !--   \\llparenthesis 2 \\rrparenthesis   \\quad\n",
    " !--   \\llceil        3 \\rrceil          \\quad\n",
    " !--   \\llfloor       4 \\rrfloor         \\quad\n",
    " !--\\end{equation}\n",
    "-->\n"
   ]
  },
  {
   "cell_type": "code",
   "execution_count": null,
   "metadata": {},
   "outputs": [],
   "source": []
  }
 ],
 "metadata": {
  "kernelspec": {
   "display_name": "Python 3",
   "language": "python",
   "name": "python3"
  },
  "language_info": {
   "codemirror_mode": {
    "name": "ipython",
    "version": 3
   },
   "file_extension": ".py",
   "mimetype": "text/x-python",
   "name": "python",
   "nbconvert_exporter": "python",
   "pygments_lexer": "ipython3",
   "version": "3.6.2"
  }
 },
 "nbformat": 4,
 "nbformat_minor": 2
}
